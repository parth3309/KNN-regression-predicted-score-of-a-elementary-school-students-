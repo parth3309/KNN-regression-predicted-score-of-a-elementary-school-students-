{
 "cells": [
  {
   "cell_type": "markdown",
   "metadata": {},
   "source": [
    "####  predict the math scores ('mathscr' column)** for elementary school children. "
   ]
  },
  {
   "cell_type": "code",
   "execution_count": 98,
   "metadata": {},
   "outputs": [],
   "source": [
    "import pandas as pd\n",
    "import numpy as np\n",
    "import matplotlib.pyplot as plt\n",
    "from sklearn.model_selection import train_test_split\n",
    "from sklearn.neighbors import KNeighborsRegressor\n",
    "from sklearn.metrics import mean_squared_error,accuracy_score,r2_score"
   ]
  },
  {
   "cell_type": "code",
   "execution_count": 99,
   "metadata": {},
   "outputs": [],
   "source": [
    "sample = pd.read_csv('Caschool-data(1).csv')"
   ]
  },
  {
   "cell_type": "markdown",
   "metadata": {},
   "source": [
    "<img src=\"Data description.png\" width=400 align=\"center\">"
   ]
  },
  {
   "cell_type": "code",
   "execution_count": 100,
   "metadata": {},
   "outputs": [
    {
     "data": {
      "text/html": [
       "<div>\n",
       "<style scoped>\n",
       "    .dataframe tbody tr th:only-of-type {\n",
       "        vertical-align: middle;\n",
       "    }\n",
       "\n",
       "    .dataframe tbody tr th {\n",
       "        vertical-align: top;\n",
       "    }\n",
       "\n",
       "    .dataframe thead th {\n",
       "        text-align: right;\n",
       "    }\n",
       "</style>\n",
       "<table border=\"1\" class=\"dataframe\">\n",
       "  <thead>\n",
       "    <tr style=\"text-align: right;\">\n",
       "      <th></th>\n",
       "      <th>distcod</th>\n",
       "      <th>enrltot</th>\n",
       "      <th>teachers</th>\n",
       "      <th>calwpct</th>\n",
       "      <th>mealpct</th>\n",
       "      <th>computer</th>\n",
       "      <th>testscr</th>\n",
       "      <th>compstu</th>\n",
       "      <th>expnstu</th>\n",
       "      <th>str</th>\n",
       "      <th>avginc</th>\n",
       "      <th>elpct</th>\n",
       "      <th>computerscr</th>\n",
       "    </tr>\n",
       "  </thead>\n",
       "  <tbody>\n",
       "    <tr>\n",
       "      <th>0</th>\n",
       "      <td>75119</td>\n",
       "      <td>195</td>\n",
       "      <td>10.900000</td>\n",
       "      <td>0.510200</td>\n",
       "      <td>2.040800</td>\n",
       "      <td>67</td>\n",
       "      <td>690.799988</td>\n",
       "      <td>0.343590</td>\n",
       "      <td>6384.911133</td>\n",
       "      <td>17.889910</td>\n",
       "      <td>22.690001</td>\n",
       "      <td>0.000000</td>\n",
       "      <td>327</td>\n",
       "    </tr>\n",
       "    <tr>\n",
       "      <th>1</th>\n",
       "      <td>61499</td>\n",
       "      <td>240</td>\n",
       "      <td>11.150000</td>\n",
       "      <td>15.416700</td>\n",
       "      <td>47.916698</td>\n",
       "      <td>101</td>\n",
       "      <td>661.200012</td>\n",
       "      <td>0.420833</td>\n",
       "      <td>5099.380859</td>\n",
       "      <td>21.524664</td>\n",
       "      <td>9.824000</td>\n",
       "      <td>4.583333</td>\n",
       "      <td>334</td>\n",
       "    </tr>\n",
       "    <tr>\n",
       "      <th>2</th>\n",
       "      <td>61549</td>\n",
       "      <td>1550</td>\n",
       "      <td>82.900002</td>\n",
       "      <td>55.032299</td>\n",
       "      <td>76.322601</td>\n",
       "      <td>169</td>\n",
       "      <td>643.599976</td>\n",
       "      <td>0.109032</td>\n",
       "      <td>5501.954590</td>\n",
       "      <td>18.697226</td>\n",
       "      <td>8.978000</td>\n",
       "      <td>30.000002</td>\n",
       "      <td>700</td>\n",
       "    </tr>\n",
       "    <tr>\n",
       "      <th>3</th>\n",
       "      <td>61457</td>\n",
       "      <td>243</td>\n",
       "      <td>14.000000</td>\n",
       "      <td>36.475399</td>\n",
       "      <td>77.049202</td>\n",
       "      <td>85</td>\n",
       "      <td>647.700012</td>\n",
       "      <td>0.349794</td>\n",
       "      <td>7101.831055</td>\n",
       "      <td>17.357143</td>\n",
       "      <td>8.978000</td>\n",
       "      <td>0.000000</td>\n",
       "      <td>420</td>\n",
       "    </tr>\n",
       "    <tr>\n",
       "      <th>4</th>\n",
       "      <td>61523</td>\n",
       "      <td>1335</td>\n",
       "      <td>71.500000</td>\n",
       "      <td>33.108601</td>\n",
       "      <td>78.427002</td>\n",
       "      <td>171</td>\n",
       "      <td>640.849976</td>\n",
       "      <td>0.128090</td>\n",
       "      <td>5235.987793</td>\n",
       "      <td>18.671329</td>\n",
       "      <td>9.080333</td>\n",
       "      <td>13.857677</td>\n",
       "      <td>700</td>\n",
       "    </tr>\n",
       "    <tr>\n",
       "      <th>...</th>\n",
       "      <td>...</td>\n",
       "      <td>...</td>\n",
       "      <td>...</td>\n",
       "      <td>...</td>\n",
       "      <td>...</td>\n",
       "      <td>...</td>\n",
       "      <td>...</td>\n",
       "      <td>...</td>\n",
       "      <td>...</td>\n",
       "      <td>...</td>\n",
       "      <td>...</td>\n",
       "      <td>...</td>\n",
       "      <td>...</td>\n",
       "    </tr>\n",
       "    <tr>\n",
       "      <th>415</th>\n",
       "      <td>68957</td>\n",
       "      <td>984</td>\n",
       "      <td>59.730000</td>\n",
       "      <td>0.101600</td>\n",
       "      <td>3.556900</td>\n",
       "      <td>195</td>\n",
       "      <td>704.300049</td>\n",
       "      <td>0.198171</td>\n",
       "      <td>7290.338867</td>\n",
       "      <td>16.474134</td>\n",
       "      <td>28.716999</td>\n",
       "      <td>5.995935</td>\n",
       "      <td>700</td>\n",
       "    </tr>\n",
       "    <tr>\n",
       "      <th>416</th>\n",
       "      <td>69518</td>\n",
       "      <td>3724</td>\n",
       "      <td>208.479996</td>\n",
       "      <td>1.074100</td>\n",
       "      <td>1.503800</td>\n",
       "      <td>721</td>\n",
       "      <td>706.750000</td>\n",
       "      <td>0.193609</td>\n",
       "      <td>5741.462891</td>\n",
       "      <td>17.862625</td>\n",
       "      <td>41.734108</td>\n",
       "      <td>4.726101</td>\n",
       "      <td>700</td>\n",
       "    </tr>\n",
       "    <tr>\n",
       "      <th>417</th>\n",
       "      <td>72611</td>\n",
       "      <td>441</td>\n",
       "      <td>20.150000</td>\n",
       "      <td>3.563500</td>\n",
       "      <td>37.193802</td>\n",
       "      <td>45</td>\n",
       "      <td>645.000000</td>\n",
       "      <td>0.102041</td>\n",
       "      <td>4402.831543</td>\n",
       "      <td>21.885857</td>\n",
       "      <td>23.733000</td>\n",
       "      <td>24.263039</td>\n",
       "      <td>604</td>\n",
       "    </tr>\n",
       "    <tr>\n",
       "      <th>418</th>\n",
       "      <td>72744</td>\n",
       "      <td>101</td>\n",
       "      <td>5.000000</td>\n",
       "      <td>11.881200</td>\n",
       "      <td>59.405899</td>\n",
       "      <td>14</td>\n",
       "      <td>672.200012</td>\n",
       "      <td>0.138614</td>\n",
       "      <td>4776.336426</td>\n",
       "      <td>20.200001</td>\n",
       "      <td>9.952000</td>\n",
       "      <td>2.970297</td>\n",
       "      <td>150</td>\n",
       "    </tr>\n",
       "    <tr>\n",
       "      <th>419</th>\n",
       "      <td>72751</td>\n",
       "      <td>1778</td>\n",
       "      <td>93.400002</td>\n",
       "      <td>6.923500</td>\n",
       "      <td>47.571201</td>\n",
       "      <td>313</td>\n",
       "      <td>655.750000</td>\n",
       "      <td>0.176040</td>\n",
       "      <td>5993.392578</td>\n",
       "      <td>19.036402</td>\n",
       "      <td>12.502000</td>\n",
       "      <td>5.005624</td>\n",
       "      <td>700</td>\n",
       "    </tr>\n",
       "  </tbody>\n",
       "</table>\n",
       "<p>420 rows × 13 columns</p>\n",
       "</div>"
      ],
      "text/plain": [
       "     distcod  enrltot    teachers    calwpct    mealpct  computer     testscr  \\\n",
       "0      75119      195   10.900000   0.510200   2.040800        67  690.799988   \n",
       "1      61499      240   11.150000  15.416700  47.916698       101  661.200012   \n",
       "2      61549     1550   82.900002  55.032299  76.322601       169  643.599976   \n",
       "3      61457      243   14.000000  36.475399  77.049202        85  647.700012   \n",
       "4      61523     1335   71.500000  33.108601  78.427002       171  640.849976   \n",
       "..       ...      ...         ...        ...        ...       ...         ...   \n",
       "415    68957      984   59.730000   0.101600   3.556900       195  704.300049   \n",
       "416    69518     3724  208.479996   1.074100   1.503800       721  706.750000   \n",
       "417    72611      441   20.150000   3.563500  37.193802        45  645.000000   \n",
       "418    72744      101    5.000000  11.881200  59.405899        14  672.200012   \n",
       "419    72751     1778   93.400002   6.923500  47.571201       313  655.750000   \n",
       "\n",
       "      compstu      expnstu        str     avginc      elpct  computerscr  \n",
       "0    0.343590  6384.911133  17.889910  22.690001   0.000000          327  \n",
       "1    0.420833  5099.380859  21.524664   9.824000   4.583333          334  \n",
       "2    0.109032  5501.954590  18.697226   8.978000  30.000002          700  \n",
       "3    0.349794  7101.831055  17.357143   8.978000   0.000000          420  \n",
       "4    0.128090  5235.987793  18.671329   9.080333  13.857677          700  \n",
       "..        ...          ...        ...        ...        ...          ...  \n",
       "415  0.198171  7290.338867  16.474134  28.716999   5.995935          700  \n",
       "416  0.193609  5741.462891  17.862625  41.734108   4.726101          700  \n",
       "417  0.102041  4402.831543  21.885857  23.733000  24.263039          604  \n",
       "418  0.138614  4776.336426  20.200001   9.952000   2.970297          150  \n",
       "419  0.176040  5993.392578  19.036402  12.502000   5.005624          700  \n",
       "\n",
       "[420 rows x 13 columns]"
      ]
     },
     "execution_count": 100,
     "metadata": {},
     "output_type": "execute_result"
    }
   ],
   "source": [
    "sample"
   ]
  },
  {
   "cell_type": "code",
   "execution_count": 101,
   "metadata": {},
   "outputs": [],
   "source": [
    "sample.rename(columns={'computerscr':'mathscr'},inplace=True)"
   ]
  },
  {
   "cell_type": "code",
   "execution_count": 102,
   "metadata": {},
   "outputs": [
    {
     "name": "stdout",
     "output_type": "stream",
     "text": [
      "<class 'pandas.core.frame.DataFrame'>\n",
      "RangeIndex: 420 entries, 0 to 419\n",
      "Data columns (total 13 columns):\n",
      " #   Column    Non-Null Count  Dtype  \n",
      "---  ------    --------------  -----  \n",
      " 0   distcod   420 non-null    int64  \n",
      " 1   enrltot   420 non-null    int64  \n",
      " 2   teachers  420 non-null    float64\n",
      " 3   calwpct   420 non-null    float64\n",
      " 4   mealpct   420 non-null    float64\n",
      " 5   computer  420 non-null    int64  \n",
      " 6   testscr   420 non-null    float64\n",
      " 7   compstu   420 non-null    float64\n",
      " 8   expnstu   420 non-null    float64\n",
      " 9   str       420 non-null    float64\n",
      " 10  avginc    420 non-null    float64\n",
      " 11  elpct     420 non-null    float64\n",
      " 12  mathscr   420 non-null    int64  \n",
      "dtypes: float64(9), int64(4)\n",
      "memory usage: 42.8 KB\n"
     ]
    }
   ],
   "source": [
    "sample.info()"
   ]
  },
  {
   "cell_type": "code",
   "execution_count": 103,
   "metadata": {},
   "outputs": [],
   "source": [
    "X=sample.drop(['mathscr','distcod'], axis=1)#[['distcod','enrltot','teachers','calwpct','mealpct','computer','testscr','compstu', 'expnstu','str','avginc','elpct']]\n",
    "Y=sample['mathscr']\n",
    "X_train,X_test,Y_train,Y_test=train_test_split(X,Y,test_size=0.25,random_state=42)"
   ]
  },
  {
   "cell_type": "code",
   "execution_count": 104,
   "metadata": {},
   "outputs": [
    {
     "name": "stdout",
     "output_type": "stream",
     "text": [
      "train accuracy for k =  1 is 1.0\n",
      "test accuracy for k= 1 is 0.7763489318057913 \n",
      "\n",
      "train accuracy for k =  2 is 0.9767968977547979\n",
      "test accuracy for k= 2 is 0.7627519151266832 \n",
      "\n",
      "train accuracy for k =  3 is 0.9663523667733479\n",
      "test accuracy for k= 3 is 0.8215052314097046 \n",
      "\n",
      "train accuracy for k =  4 is 0.9556275299773562\n",
      "test accuracy for k= 4 is 0.7851933075927398 \n",
      "\n",
      "train accuracy for k =  5 is 0.9456316035835518\n",
      "test accuracy for k= 5 is 0.7681458801618004 \n",
      "\n",
      "train accuracy for k =  6 is 0.9326849635870321\n",
      "test accuracy for k= 6 is 0.7704966220100044 \n",
      "\n",
      "train accuracy for k =  7 is 0.9252550569251434\n",
      "test accuracy for k= 7 is 0.7734285766607795 \n",
      "\n",
      "train accuracy for k =  8 is 0.9164174552156612\n",
      "test accuracy for k= 8 is 0.7729687271847058 \n",
      "\n",
      "train accuracy for k =  9 is 0.9082279606379491\n",
      "test accuracy for k= 9 is 0.7520349254675268 \n",
      "\n",
      "train accuracy for k =  10 is 0.8968461409210109\n",
      "test accuracy for k= 10 is 0.743574718004148 \n",
      "\n",
      "train accuracy for k =  11 is 0.8877850408839002\n",
      "test accuracy for k= 11 is 0.7320504022012987 \n",
      "\n",
      "train accuracy for k =  12 is 0.8849121752449793\n",
      "test accuracy for k= 12 is 0.7240447152873508 \n",
      "\n",
      "train accuracy for k =  13 is 0.8761738119781335\n",
      "test accuracy for k= 13 is 0.715333916564743 \n",
      "\n",
      "train accuracy for k =  14 is 0.8657535144251317\n",
      "test accuracy for k= 14 is 0.7054590899445317 \n",
      "\n",
      "train accuracy for k =  15 is 0.8613878640081707\n",
      "test accuracy for k= 15 is 0.712235976624991 \n",
      "\n"
     ]
    }
   ],
   "source": [
    "K_range = range(0, 15)\n",
    "S2_val1 = [] \n",
    "for K in K_range:\n",
    "    K = K+1\n",
    "    reg=KNeighborsRegressor(n_neighbors = K)\n",
    "    reg.fit(X_train,Y_train)\n",
    "    Y_pred=reg.predict(X_test)\n",
    "    train_acc=reg.score(X_train,Y_train)\n",
    "    test_acc=reg.score(X_test,Y_test)\n",
    "    print(\"train accuracy for k = \", K, \"is\",train_acc)\n",
    "    print(\"test accuracy for k=\", K, \"is\",test_acc,\"\\n\")\n",
    "    #r2 = r2_score(Y_test, Y_pred)\n",
    "    #S2_val1.append(r2)\n",
    "    #print('R2 value for k= ' , K , 'is:', r2)"
   ]
  },
  {
   "cell_type": "code",
   "execution_count": 105,
   "metadata": {},
   "outputs": [],
   "source": [
    "from sklearn.preprocessing import StandardScaler"
   ]
  },
  {
   "cell_type": "code",
   "execution_count": 112,
   "metadata": {},
   "outputs": [
    {
     "data": {
      "image/png": "[encoded data removed]",
      "text/plain": [
       "<Figure size 1296x1296 with 13 Axes>"
      ]
     },
     "metadata": {
      "needs_background": "light"
     },
     "output_type": "display_data"
    }
   ],
   "source": [
    "plt.figure(figsize=(18,18))\n",
    "for i,col in enumerate(sample):\n",
    "    plt.subplot(5,3,i+1)\n",
    "    plt.xlabel(col)\n",
    "    plt.hist(sample[col],bins=60)"
   ]
  },
  {
   "cell_type": "code",
   "execution_count": 107,
   "metadata": {},
   "outputs": [],
   "source": [
    "X=sample[['distcod','enrltot','teachers','calwpct','mealpct','computer','testscr','compstu', 'expnstu','str','avginc','elpct']]\n",
    "Y=sample['mathscr']\n",
    "X_train,X_test,Y_train,Y_test=train_test_split(X,Y,test_size=0.25,random_state=42)"
   ]
  },
  {
   "cell_type": "code",
   "execution_count": 108,
   "metadata": {},
   "outputs": [],
   "source": [
    "Standard_scaler = StandardScaler()\n",
    "X_S = Standard_scaler.fit_transform(X_train)\n",
    "X_S1 = Standard_scaler.transform(X_test)"
   ]
  },
  {
   "cell_type": "code",
   "execution_count": 109,
   "metadata": {},
   "outputs": [
    {
     "name": "stdout",
     "output_type": "stream",
     "text": [
      "train accuracy of scaled data for k =  1 is 1.0\n",
      "test accuracy of scaled data for k= 1 is -0.0701244094942921 & R2 score is  -0.0701244094942921 \n",
      "\n",
      "train accuracy of scaled data for k =  2 is 0.7506867886470813\n",
      "test accuracy of scaled data for k= 2 is 0.12935127976969463 & R2 score is  0.12935127976969463 \n",
      "\n",
      "train accuracy of scaled data for k =  3 is 0.6274083216296258\n",
      "test accuracy of scaled data for k= 3 is 0.2592564804117712 & R2 score is  0.2592564804117712 \n",
      "\n",
      "train accuracy of scaled data for k =  4 is 0.5427588819565381\n",
      "test accuracy of scaled data for k= 4 is 0.25036351769577303 & R2 score is  0.25036351769577303 \n",
      "\n",
      "train accuracy of scaled data for k =  5 is 0.46015735376505407\n",
      "test accuracy of scaled data for k= 5 is 0.2955317188342945 & R2 score is  0.2955317188342945 \n",
      "\n",
      "train accuracy of scaled data for k =  6 is 0.4297046683742878\n",
      "test accuracy of scaled data for k= 6 is 0.32765030668583073 & R2 score is  0.32765030668583073 \n",
      "\n",
      "train accuracy of scaled data for k =  7 is 0.4283792505191848\n",
      "test accuracy of scaled data for k= 7 is 0.3406469223927042 & R2 score is  0.3406469223927042 \n",
      "\n",
      "train accuracy of scaled data for k =  8 is 0.3932466974308242\n",
      "test accuracy of scaled data for k= 8 is 0.33097048339753377 & R2 score is  0.33097048339753377 \n",
      "\n",
      "train accuracy of scaled data for k =  9 is 0.38551433981515904\n",
      "test accuracy of scaled data for k= 9 is 0.3234322103742685 & R2 score is  0.3234322103742685 \n",
      "\n",
      "train accuracy of scaled data for k =  10 is 0.3737675791671302\n",
      "test accuracy of scaled data for k= 10 is 0.32735674293138317 & R2 score is  0.32735674293138317 \n",
      "\n",
      "train accuracy of scaled data for k =  11 is 0.36949267276662656\n",
      "test accuracy of scaled data for k= 11 is 0.33403119137168424 & R2 score is  0.33403119137168424 \n",
      "\n",
      "train accuracy of scaled data for k =  12 is 0.36076850097040414\n",
      "test accuracy of scaled data for k= 12 is 0.3378417711263101 & R2 score is  0.3378417711263101 \n",
      "\n",
      "train accuracy of scaled data for k =  13 is 0.351265024825818\n",
      "test accuracy of scaled data for k= 13 is 0.3539821684061393 & R2 score is  0.3539821684061393 \n",
      "\n",
      "train accuracy of scaled data for k =  14 is 0.3363824134183939\n",
      "test accuracy of scaled data for k= 14 is 0.3312374732038328 & R2 score is  0.3312374732038328 \n",
      "\n",
      "train accuracy of scaled data for k =  15 is 0.33108025671867625\n",
      "test accuracy of scaled data for k= 15 is 0.31588801509221287 & R2 score is  0.31588801509221287 \n",
      "\n"
     ]
    }
   ],
   "source": [
    "K_range = range(0, 15)\n",
    "S2_val = [] \n",
    "for K in K_range:\n",
    "    K = K+1\n",
    "    reg1=KNeighborsRegressor(n_neighbors = K)\n",
    "    reg1.fit(X_S,Y_train)\n",
    "    Y_pred1=reg1.predict(X_S1)\n",
    "    train_acc1=reg1.score(X_S,Y_train)\n",
    "    test_acc1=reg1.score(X_S1,Y_test)\n",
    "    r2 = r2_score(Y_test, Y_pred1)\n",
    "    S2_val.append(r2)\n",
    "    print(\"train accuracy of scaled data for k = \", K, \"is\",train_acc1 )\n",
    "    print(\"test accuracy of scaled data for k=\", K, \"is\",test_acc1, \"& R2 score is \",r2,\"\\n\")"
   ]
  },
  {
   "cell_type": "code",
   "execution_count": 114,
   "metadata": {},
   "outputs": [
    {
     "name": "stdout",
     "output_type": "stream",
     "text": [
      "Best leaf_size: 1\n",
      "Best p: 1\n",
      "Best n_neighbors: 14\n"
     ]
    }
   ],
   "source": [
    "from sklearn.model_selection import GridSearchCV\n",
    "#List Hyperparameters that we want to tune.\n",
    "leaf_size = list(range(1,50))\n",
    "n_neighbors = list(range(1,30))\n",
    "p=[1,2]\n",
    "#Convert to dictionary\n",
    "hyperparameters = dict(leaf_size=leaf_size, n_neighbors=n_neighbors, p=p)\n",
    "#Create new KNN object\n",
    "knn_2 = KNeighborsRegressor()\n",
    "#Use GridSearch\n",
    "clf = GridSearchCV(knn_2, hyperparameters, cv=10)\n",
    "#Fit the model\n",
    "best_model = clf.fit(X_S,Y_train)\n",
    "#Print The value of best Hyperparameters\n",
    "print('Best leaf_size:', best_model.best_estimator_.get_params()['leaf_size'])\n",
    "print('Best p:', best_model.best_estimator_.get_params()['p'])\n",
    "print('Best n_neighbors:', best_model.best_estimator_.get_params()['n_neighbors'])"
   ]
  },
  {
   "cell_type": "code",
   "execution_count": 120,
   "metadata": {},
   "outputs": [],
   "source": [
    "ypred2=clf.predict(X_S1)\n",
    "train_acc2=clf.score(X_S,Y_train)\n",
    "test_acc2=clf.score(X_S1,Y_test)"
   ]
  },
  {
   "cell_type": "code",
   "execution_count": 124,
   "metadata": {},
   "outputs": [],
   "source": [
    "new_r2 = r2_score(Y_test, ypred2)"
   ]
  },
  {
   "cell_type": "code",
   "execution_count": 125,
   "metadata": {},
   "outputs": [
    {
     "data": {
      "text/plain": [
       "0.4843563335346456"
      ]
     },
     "execution_count": 125,
     "metadata": {},
     "output_type": "execute_result"
    }
   ],
   "source": [
    "new_r2"
   ]
  }
 ],
 "metadata": {
  "kernelspec": {
   "display_name": "Python 3",
   "language": "python",
   "name": "python3"
  },
  "language_info": {
   "codemirror_mode": {
    "name": "ipython",
    "version": 3
   },
   "file_extension": ".py",
   "mimetype": "text/x-python",
   "name": "python",
   "nbconvert_exporter": "python",
   "pygments_lexer": "ipython3",
   "version": "3.8.2"
  }
 },
 "nbformat": 4,
 "nbformat_minor": 4
}
